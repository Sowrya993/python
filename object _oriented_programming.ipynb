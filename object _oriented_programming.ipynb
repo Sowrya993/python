{
 "cells": [
  {
   "cell_type": "code",
   "execution_count": 24,
   "id": "bee85ad2",
   "metadata": {},
   "outputs": [
    {
     "name": "stdout",
     "output_type": "stream",
     "text": [
      "Granite black\n",
      "classic 350\n"
     ]
    }
   ],
   "source": [
    "\"\"\"class is a blueprint and object is a real world entity tht has state and behaviour\"\"\"\n",
    "#Empty class by using pass we can also create an empty method\n",
    "class Bike:\n",
    "    pass\n",
    "Royal_Enfield=Bike()\n",
    "Royal_Enfield.color=\"Granite black\"\n",
    "Royal_Enfield.model=\"classic 350\"\n",
    "print(Royal_Enfield.color)\n",
    "print(Royal_Enfield.model)"
   ]
  },
  {
   "cell_type": "code",
   "execution_count": 25,
   "id": "8ec061be",
   "metadata": {},
   "outputs": [
    {
     "name": "stdout",
     "output_type": "stream",
     "text": [
      "__init__ is called\n"
     ]
    }
   ],
   "source": [
    "#every time an object is created a constructor is called...\n",
    "class Bike:\n",
    "    def __init__(self):\n",
    "        print(\"__init__ is called\")\n",
    "Royal_Enfield=Bike()\n",
    "#one class should not contain multiple __init__classes if there exists last __init__class is considered\n",
    "#there is no need to mention every parameter in init method we can also define then statically as ex:self.age=10"
   ]
  },
  {
   "cell_type": "code",
   "execution_count": 27,
   "id": "a3a54fbe",
   "metadata": {},
   "outputs": [
    {
     "name": "stdout",
     "output_type": "stream",
     "text": [
      "10\n"
     ]
    },
    {
     "ename": "AttributeError",
     "evalue": "'Bike' object has no attribute 'b'",
     "output_type": "error",
     "traceback": [
      "\u001b[1;31m---------------------------------------------------------------------------\u001b[0m",
      "\u001b[1;31mAttributeError\u001b[0m                            Traceback (most recent call last)",
      "\u001b[1;32m~\\AppData\\Local\\Temp\\ipykernel_5992\\1873685266.py\u001b[0m in \u001b[0;36m<module>\u001b[1;34m\u001b[0m\n\u001b[0;32m      6\u001b[0m \u001b[0mbike1\u001b[0m\u001b[1;33m=\u001b[0m\u001b[0mBike\u001b[0m\u001b[1;33m(\u001b[0m\u001b[1;33m)\u001b[0m\u001b[1;33m\u001b[0m\u001b[1;33m\u001b[0m\u001b[0m\n\u001b[0;32m      7\u001b[0m \u001b[0mprint\u001b[0m\u001b[1;33m(\u001b[0m\u001b[0mbike1\u001b[0m\u001b[1;33m.\u001b[0m\u001b[0ma\u001b[0m\u001b[1;33m)\u001b[0m\u001b[1;33m\u001b[0m\u001b[1;33m\u001b[0m\u001b[0m\n\u001b[1;32m----> 8\u001b[1;33m \u001b[0mprint\u001b[0m\u001b[1;33m(\u001b[0m\u001b[0mbike1\u001b[0m\u001b[1;33m.\u001b[0m\u001b[0mb\u001b[0m\u001b[1;33m)\u001b[0m\u001b[1;33m\u001b[0m\u001b[1;33m\u001b[0m\u001b[0m\n\u001b[0m\u001b[0;32m      9\u001b[0m \u001b[0mprint\u001b[0m\u001b[1;33m(\u001b[0m\u001b[0mbike1\u001b[0m\u001b[1;33m.\u001b[0m\u001b[0mc\u001b[0m\u001b[1;33m)\u001b[0m\u001b[1;33m\u001b[0m\u001b[1;33m\u001b[0m\u001b[0m\n",
      "\u001b[1;31mAttributeError\u001b[0m: 'Bike' object has no attribute 'b'"
     ]
    }
   ],
   "source": [
    "class Bike:\n",
    "    def __init__(self):\n",
    "        self.a=10\n",
    "        self._b=20 #private cannot be accesed outside of the class\n",
    "        self.__c=30 #private\n",
    "    def __private_method(self): #private method\n",
    "        pass\n",
    "bike1=Bike()\n",
    "print(bike1.a)\n",
    "print(bike1.b)\n",
    "print(bike1.c)"
   ]
  },
  {
   "cell_type": "code",
   "execution_count": null,
   "id": "16d228d9",
   "metadata": {},
   "outputs": [],
   "source": [
    "#object oriented programming language\n",
    "\"\"\"Inheritance\n",
    "one class derives the propertues and methods of another class\n",
    "There are three types of inheritance thet are\n",
    "1.single level inheritance\n",
    "2.multilevel inheritance\n",
    "3.multiple inheritance\"\"\""
   ]
  },
  {
   "cell_type": "code",
   "execution_count": 2,
   "id": "8eb1e2c1",
   "metadata": {},
   "outputs": [
    {
     "name": "stdout",
     "output_type": "stream",
     "text": [
      "Granite Black\n",
      "The Granite Black bike with model Royal Enfield Himalayan has started.\n",
      "None\n"
     ]
    }
   ],
   "source": [
    "#single level inheritance\n",
    "class Bike:\n",
    "    def start(self):\n",
    "        print(f\"The {self.color} bike with model {self.model} has started.\")\n",
    "    def stop(self):\n",
    "        print(\"The bike has stop.\")\n",
    "class Royal_Enfield(Bike): #single level inheriting\n",
    "    def __init__(self,model,color,budget):\n",
    "        self.model=model\n",
    "        self.color=color\n",
    "        self.budget=budget\n",
    "bike1=Royal_Enfield(\"Royal Enfield Himalayan\",\"Granite Black\",\"$4,500 - $5,000\") #object creation\n",
    "print(bike1.color)\n",
    "print(bike1.start())"
   ]
  },
  {
   "cell_type": "code",
   "execution_count": 11,
   "id": "9e0f3cac",
   "metadata": {},
   "outputs": [
    {
     "name": "stdout",
     "output_type": "stream",
     "text": [
      "Royal_Enfield_Himalayan\n",
      "The Granite Black bike with model 350 has started.\n",
      "None\n"
     ]
    }
   ],
   "source": [
    "#multilevel inheritance\n",
    "class Bike:\n",
    "    def start(self):\n",
    "        print(f\"The {self.color} bike with model {self.model} has started.\")\n",
    "    def stop(self):\n",
    "        print(\"The bike has stop.\")\n",
    "class Royal_Enfield(Bike):#single level\n",
    "    def __init__(self,brand):\n",
    "        self.brand=brand\n",
    "class Royal_Enfield_Himalayan(Royal_Enfield):#multi level\n",
    "    def __init__(self,model,color,budget):\n",
    "        self.model=model\n",
    "        self.color=color\n",
    "        self.budget=budget\n",
    "bike1=Royal_Enfield_Himalayan(\"350\",\"Granite Black\",\"$4,500 - $5,000\")#object creating\n",
    "print(bike1.start())\n"
   ]
  },
  {
   "cell_type": "code",
   "execution_count": 13,
   "id": "fadc4abb",
   "metadata": {},
   "outputs": [
    {
     "name": "stdout",
     "output_type": "stream",
     "text": [
      "runs on both\n"
     ]
    }
   ],
   "source": [
    "#multiple inheritance\n",
    "class Road_bike:\n",
    "    a=\"This bike runs on raod\"\n",
    "class Mountain_bike:\n",
    "    b=\"The bike runs on mountain\"\n",
    "class hybrid(Road_bike,Mountain_bike): #multiple\n",
    "    c=\"runs on both\"\n",
    "h1=hybrid()\n",
    "print(h1.c)\n"
   ]
  },
  {
   "cell_type": "code",
   "execution_count": 14,
   "id": "62efebbc",
   "metadata": {},
   "outputs": [
    {
     "name": "stdout",
     "output_type": "stream",
     "text": [
      "bike started\n",
      "None\n",
      "bike stopped\n",
      "None\n"
     ]
    }
   ],
   "source": [
    "#Abstraction\n",
    "\"\"\"hiding internal details and showing only the functionality\"\"\"\n",
    "class Bike:\n",
    "    def __init__(self):\n",
    "        self.accelator=False\n",
    "        self.clutch=False\n",
    "        self.brake=False\n",
    "    def start(self):\n",
    "        self.clutch=True\n",
    "        self.accelator=True\n",
    "        print(\"bike started\")\n",
    "    def stop(self):\n",
    "        self.brake=True\n",
    "        print(\"bike stopped\")\n",
    "bike1=Bike()\n",
    "print(bike1.start())\n",
    "print(bike1.stop())\n",
    "        "
   ]
  },
  {
   "cell_type": "code",
   "execution_count": 15,
   "id": "a5ea2125",
   "metadata": {},
   "outputs": [
    {
     "name": "stdout",
     "output_type": "stream",
     "text": [
      "Granite Black\n",
      "Royal Enfiled\n"
     ]
    }
   ],
   "source": [
    "#encapsulation\n",
    "\"\"\"wrapping all the data into a single unit\"\"\"\n",
    "class Bike:\n",
    "    color=\"Granite Black\"\n",
    "    def __init__(self,model):\n",
    "        self.model=model\n",
    "bike1=Bike(\"Royal Enfiled\")\n",
    "print(bike1.color)\n",
    "print(bike1.model)"
   ]
  },
  {
   "cell_type": "code",
   "execution_count": 43,
   "id": "9e502f08",
   "metadata": {},
   "outputs": [
    {
     "name": "stdout",
     "output_type": "stream",
     "text": [
      "400\n"
     ]
    }
   ],
   "source": [
    "#encapsulation\n",
    "class Bike:\n",
    "    def __init__(self,model,speed):\n",
    "        self.model=model\n",
    "        self.__speed=speed  #private\n",
    "\n",
    "    def set_speed(self,value):\n",
    "        self.__speed=value\n",
    "    \n",
    "    def get_speed(self):\n",
    "        return self.__speed\n",
    "bike1=Bike(\"Royal Enfield\",30)\n",
    "#bike1.speed=400 produces error as speed is private\n",
    "bike1.set_speed(400) #only can be changed using method\n",
    "print(bike1.get_speed())\n"
   ]
  },
  {
   "cell_type": "code",
   "execution_count": 38,
   "id": "4f80708c",
   "metadata": {},
   "outputs": [
    {
     "name": "stdout",
     "output_type": "stream",
     "text": [
      "this is royal enfield bike\n"
     ]
    }
   ],
   "source": [
    "#polymorphism\n",
    "class Bike:\n",
    "    def displayinfo(self):\n",
    "        print(\"this is bike\")\n",
    "class Royal_Enfield(Bike):\n",
    "    def displayinfo(self):\n",
    "        print(\"this is royal enfield bike\")\n",
    "b1=Royal_Enfield()\n",
    "b1.displayinfo()"
   ]
  },
  {
   "cell_type": "code",
   "execution_count": null,
   "id": "ead6e3aa",
   "metadata": {},
   "outputs": [],
   "source": []
  },
  {
   "cell_type": "code",
   "execution_count": null,
   "id": "dbac6688",
   "metadata": {},
   "outputs": [],
   "source": []
  }
 ],
 "metadata": {
  "kernelspec": {
   "display_name": "Python 3 (ipykernel)",
   "language": "python",
   "name": "python3"
  },
  "language_info": {
   "codemirror_mode": {
    "name": "ipython",
    "version": 3
   },
   "file_extension": ".py",
   "mimetype": "text/x-python",
   "name": "python",
   "nbconvert_exporter": "python",
   "pygments_lexer": "ipython3",
   "version": "3.9.13"
  }
 },
 "nbformat": 4,
 "nbformat_minor": 5
}
