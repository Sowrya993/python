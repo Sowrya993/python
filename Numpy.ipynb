{
 "cells": [
  {
   "cell_type": "code",
   "execution_count": null,
   "id": "83cc6ddf",
   "metadata": {},
   "outputs": [],
   "source": [
    "\"\"\"Numpy is a python library used for scientific computing\n",
    "numpy array is a grid of values containg info about the raw data i.e how to locate an element and how to interpret an element.\n",
    "advantage of numpy over list is\n",
    "1.consumes less memory bcz of homogenity and contiguous block of allocation\n",
    "2.faster than list for performing various mathematical operations\n",
    "\n",
    "pip install numpy #installation\n",
    "import numpy as np #importing\"\"\""
   ]
  },
  {
   "cell_type": "code",
   "execution_count": 4,
   "id": "dfff19a8",
   "metadata": {},
   "outputs": [
    {
     "name": "stdout",
     "output_type": "stream",
     "text": [
      "740 ns ± 54.5 ns per loop (mean ± std. dev. of 7 runs, 1000000 loops each)\n",
      "[1 2 3 4]\n",
      "<class 'numpy.ndarray'>\n"
     ]
    }
   ],
   "source": [
    "import numpy as np\n",
    "%timeit x=np.array([1,2,3,4]) #for knowing the execution time\n",
    "x=np.array([1,2,3,4])\n",
    "print(x)\n",
    "print(type(x))"
   ]
  },
  {
   "cell_type": "code",
   "execution_count": 9,
   "id": "7abb4765",
   "metadata": {},
   "outputs": [
    {
     "name": "stdout",
     "output_type": "stream",
     "text": [
      "1\n",
      "2\n",
      "3\n",
      "[[[[[[[[[1 2 3]]]]]]]]]\n",
      "9\n"
     ]
    }
   ],
   "source": [
    "#dimension\n",
    "x=np.array([1,2,3]) #1D array\n",
    "y=np.array([[1,2,3]])  #2D array\n",
    "z=np.array([[[1,2,3]]]) #3D array\n",
    "print(x.ndim) \n",
    "print(y.ndim)\n",
    "print(z.ndim)\n",
    "a=np.array([1,2,3],ndmin=9)  #creating multidimensional array\n",
    "print(a)\n",
    "print(a.ndim)"
   ]
  },
  {
   "cell_type": "markdown",
   "id": "3086b1dd",
   "metadata": {},
   "source": [
    "# creating numpy using numpy functions"
   ]
  },
  {
   "cell_type": "code",
   "execution_count": 12,
   "id": "047bb415",
   "metadata": {
    "scrolled": true
   },
   "outputs": [
    {
     "name": "stdout",
     "output_type": "stream",
     "text": [
      "[0. 0. 0. 0.]\n",
      "[[0. 0. 0. 0.]\n",
      " [0. 0. 0. 0.]\n",
      " [0. 0. 0. 0.]]\n",
      "[1. 1. 1. 1.]\n",
      "[[1. 1. 1. 1.]\n",
      " [1. 1. 1. 1.]\n",
      " [1. 1. 1. 1.]]\n"
     ]
    }
   ],
   "source": [
    "#arary with zeros\n",
    "a=np.zeros(4) #1D\n",
    "print(a)\n",
    "b=np.zeros((3,4)) #2D\n",
    "print(b)\n",
    "\n",
    "#array with ones\n",
    "a=np.ones(4) #1D\n",
    "print(a)\n",
    "b=np.ones((3,4)) #2D\n",
    "print(b)"
   ]
  },
  {
   "cell_type": "code",
   "execution_count": 13,
   "id": "4b1322fe",
   "metadata": {},
   "outputs": [
    {
     "name": "stdout",
     "output_type": "stream",
     "text": [
      "[0 1 2 3 4 5 6 7 8 9]\n"
     ]
    }
   ],
   "source": [
    "#range\n",
    "a=np.arange(10)\n",
    "print(a)"
   ]
  },
  {
   "cell_type": "code",
   "execution_count": 18,
   "id": "60a501b9",
   "metadata": {},
   "outputs": [
    {
     "name": "stdout",
     "output_type": "stream",
     "text": [
      "[6.23042070e-307 4.67296746e-307 1.69121096e-306 2.22521816e-307\n",
      " 2.67017826e-306 1.42413555e-306 1.78019082e-306 1.37959740e-306\n",
      " 6.23057349e-307 1.42419530e-306]\n",
      "[[1. 0. 0. 0.]\n",
      " [0. 1. 0. 0.]\n",
      " [0. 0. 1. 0.]\n",
      " [0. 0. 0. 1.]]\n",
      " \n",
      "[ 1.  4.  7. 10.]\n"
     ]
    }
   ],
   "source": [
    "a=np.empty(10)  #empty array\n",
    "print(a)\n",
    "\n",
    "#diagnol\n",
    "a=np.eye(4)\n",
    "print(a)\n",
    "print(\" \")\n",
    "#linespace\n",
    "a=np.linspace(1,10,num=4)  #four numbers with equal difference in between 1 and 10\n",
    "print(a)"
   ]
  },
  {
   "cell_type": "markdown",
   "id": "cafc7e87",
   "metadata": {},
   "source": [
    "# craeting numpy array using random numbers"
   ]
  },
  {
   "cell_type": "code",
   "execution_count": 22,
   "id": "5080d4ff",
   "metadata": {
    "scrolled": true
   },
   "outputs": [
    {
     "name": "stdout",
     "output_type": "stream",
     "text": [
      "[0.95426303 0.73677007 0.85090701 0.08124293]\n",
      "[ 0.89280076  0.30035965 -1.05116597 -0.18843378]\n",
      "[0.97635427 0.36075847 0.66274627 0.77306543]\n",
      "[[0.94815561 0.94903577 0.30666091 0.82676307]]\n"
     ]
    }
   ],
   "source": [
    "a=np.random.rand(4)  #generate random numbers in between 0 and 1\n",
    "print(a)\n",
    "a=np.random.randn(4)  #generate random numbers close to zero which may be positive or negative\n",
    "print(a)\n",
    "a=np.random.ranf(4)  #generate random numbers in interval 0.0 and 1.0\n",
    "print(a)\n",
    "a=np.random.rand(1,4)  #generate random numbers in between the given range\n",
    "print(a)"
   ]
  },
  {
   "cell_type": "markdown",
   "id": "488ca862",
   "metadata": {},
   "source": [
    "# arithmatic operations"
   ]
  },
  {
   "cell_type": "code",
   "execution_count": 5,
   "id": "f249cdb8",
   "metadata": {},
   "outputs": [
    {
     "name": "stdout",
     "output_type": "stream",
     "text": [
      "[2 4 6 8]\n",
      "[0 0 0 0]\n",
      "[ 1  4  9 16]\n",
      "[1. 1. 1. 1.]\n",
      "[0 0 0 0]\n",
      "[  1   4  27 256]\n",
      "[1 0 0 0]\n"
     ]
    }
   ],
   "source": [
    "a=np.array([1,2,3,4])\n",
    "b=np.array([1,2,3,4])\n",
    "print(np.add(a,b))\n",
    "print(np.subtract(a,b))\n",
    "print(np.multiply(a,b))\n",
    "print(np.divide(a,b))\n",
    "print(np.mod(a,b))\n",
    "print(np.power(a,b))\n",
    "print(np.reciprocal(a))"
   ]
  },
  {
   "cell_type": "markdown",
   "id": "bb5da8f7",
   "metadata": {},
   "source": [
    "# arithmetic functions"
   ]
  },
  {
   "cell_type": "code",
   "execution_count": 10,
   "id": "558e9b91",
   "metadata": {},
   "outputs": [
    {
     "name": "stdout",
     "output_type": "stream",
     "text": [
      "1 0\n",
      "4 3\n",
      "[1.         1.41421356 1.73205081 2.        ]\n",
      "[ 0.84147098  0.90929743  0.14112001 -0.7568025 ]\n",
      "[ 0.54030231 -0.41614684 -0.9899925  -0.65364362]\n",
      "[ 1  3  6 10]\n",
      "[2 0 6 2]\n",
      "[9 9]\n"
     ]
    }
   ],
   "source": [
    "a=np.array([1,2,3,4])\n",
    "print(np.min(a),np.argmin(a)) #argmin/argmax defines the position\n",
    "print(np.max(a),np.argmax(a))\n",
    "print(np.sqrt(a))\n",
    "print(np.sin(a))\n",
    "print(np.cos(a))\n",
    "print(np.cumsum(a)) # cumulative sum\n",
    "a=np.array([[2,0,9,3],[8,9,6,2]])\n",
    "print(np.min(a,axis=0)) #colwise\n",
    "print(np.max(a,axis=1)) #rowwise"
   ]
  },
  {
   "cell_type": "code",
   "execution_count": 16,
   "id": "cd5fdc7e",
   "metadata": {},
   "outputs": [
    {
     "name": "stdout",
     "output_type": "stream",
     "text": [
      "(6,)\n",
      "(1, 1, 1, 1, 1, 1, 1, 1, 1, 6)\n",
      "[[1 2 3]\n",
      " [4 5 6]]\n"
     ]
    }
   ],
   "source": [
    "# shape and reshape\n",
    "a=np.array([1,2,3,4,5,6])\n",
    "print(a.shape)\n",
    "b=np.array([1,2,3,4,5,6 ],ndmin=10)\n",
    "print(b.shape)\n",
    "print(a.reshape(2,3))"
   ]
  },
  {
   "cell_type": "code",
   "execution_count": 17,
   "id": "e307a74d",
   "metadata": {},
   "outputs": [
    {
     "name": "stdout",
     "output_type": "stream",
     "text": [
      "(2, 1)\n",
      "(2, 3)\n",
      "[[2 3 4]\n",
      " [6 7 8]]\n"
     ]
    }
   ],
   "source": [
    "#braodcasting\n",
    "x=np.array([[1],[2]])   # rows common 2&2 hence 2 cols are 1&3 max is 3 hence result is (2x3)\n",
    "print(x.shape)\n",
    "y=np.array([[1,2,3],[4,5,6]])\n",
    "print(y.shape)\n",
    "print(x+y)"
   ]
  },
  {
   "cell_type": "code",
   "execution_count": 27,
   "id": "62d9c761",
   "metadata": {},
   "outputs": [
    {
     "name": "stdout",
     "output_type": "stream",
     "text": [
      "3\n",
      "3\n",
      "6\n",
      "4\n",
      "[3 5]\n",
      "[1 2 3 4 5 6]\n",
      "[ 7  8  9 10]\n"
     ]
    }
   ],
   "source": [
    "#indexing and slicing\n",
    "a=np.array([1,2,3,4])\n",
    "print(a[2])\n",
    "print(a[-2])\n",
    "b=np.array([[1,3],[6,7]])\n",
    "print(b[1,0])\n",
    "c=np.array([[[1,2,3],[4,5,6]]])\n",
    "print(c[0,1,0])\n",
    "d=np.array([1,2,3,4,5,6,7])\n",
    "print(d[2:6:2]) # start stop step\n",
    "print(d[:6])\n",
    "e=np.array([[1,2,3,4,5],[6,7,8,9,10],[11,12,13,14,15]])\n",
    "print(e[1,1:])"
   ]
  },
  {
   "cell_type": "code",
   "execution_count": 38,
   "id": "2a86dbf5",
   "metadata": {},
   "outputs": [
    {
     "name": "stdout",
     "output_type": "stream",
     "text": [
      "1\n",
      "2\n",
      "3\n",
      "4\n",
      "1\n",
      "2\n",
      "3\n",
      "4\n",
      "((0,), 1)\n",
      "((1,), 2)\n",
      "((2,), 3)\n",
      "((3,), 4)\n"
     ]
    }
   ],
   "source": [
    "#iterating\n",
    "a=np.array([1,2,3,4])\n",
    "for i in a:\n",
    "    print(i)\n",
    "for i in np.nditer(a):\n",
    "    print(i)\n",
    "for i in np.ndenumerate(a):\n",
    "    print(i)"
   ]
  },
  {
   "cell_type": "code",
   "execution_count": 35,
   "id": "7ef647d4",
   "metadata": {},
   "outputs": [
    {
     "name": "stdout",
     "output_type": "stream",
     "text": [
      "1\n",
      "2\n",
      "3\n",
      "4\n",
      "5\n",
      "6\n",
      "7\n",
      "8\n",
      "9\n",
      "10\n",
      "11\n",
      "12\n",
      "13\n",
      "14\n",
      "15\n"
     ]
    }
   ],
   "source": [
    "var=np.array([[1,2,3,4,5],[6,7,8,9,10],[11,12,13,14,15]]) # for n-dimension n-forloops can be used\n",
    "\n",
    "for i in var:\n",
    "    for j in i:\n",
    "        print(j)"
   ]
  },
  {
   "cell_type": "code",
   "execution_count": 39,
   "id": "1417dd63",
   "metadata": {},
   "outputs": [
    {
     "name": "stdout",
     "output_type": "stream",
     "text": [
      "[1 2 3 4]\n",
      "[1 2 3 4]\n"
     ]
    }
   ],
   "source": [
    "#copy and view\n",
    "a=np.array([1,2,3,4])\n",
    "b=a.copy()   #changes made to copy doesnot reflect the main array\n",
    "print(a)\n",
    "a=np.array([1,2,3,4])\n",
    "b=a.view() #changes made to view reflect the original array\n",
    "print(a)\n"
   ]
  },
  {
   "cell_type": "code",
   "execution_count": 48,
   "id": "49b51b13",
   "metadata": {},
   "outputs": [
    {
     "name": "stdout",
     "output_type": "stream",
     "text": [
      "[1 2 3 4 9 8 7 6]\n",
      "[[1 2 3 4]\n",
      " [9 8 7 6]]\n",
      "[1 2 3 4 9 8 7 6]\n",
      "[[1 2 3 4]\n",
      " [9 8 7 6]]\n",
      "[[[1 9]\n",
      "  [2 8]\n",
      "  [3 7]\n",
      "  [4 6]]]\n"
     ]
    }
   ],
   "source": [
    "#joining of ararys\n",
    "a=np.array([1,2,3,4])\n",
    "b=np.array([9,8,7,6])\n",
    "print(np.concatenate((a,b)))\n",
    "print(np.stack((a,b)))\n",
    "print(np.hstack((a,b))) #rowwise\n",
    "print(np.vstack((a,b))) #colwise\n",
    "print(np.dstack((a,b))) #heightwise"
   ]
  },
  {
   "cell_type": "code",
   "execution_count": 45,
   "id": "c4d57d15",
   "metadata": {},
   "outputs": [
    {
     "name": "stdout",
     "output_type": "stream",
     "text": [
      "[[1 2]\n",
      " [3 4]]\n",
      "\n",
      "[[5 6]\n",
      " [7 8]]\n",
      "\n",
      "[[1 2]\n",
      " [3 4]\n",
      " [5 6]\n",
      " [7 8]]\n",
      "\n",
      "[[1 2]\n",
      " [3 4]\n",
      " [5 6]\n",
      " [7 8]]\n",
      "\n",
      "[[1 2 5 6]\n",
      " [3 4 7 8]]\n",
      "\n"
     ]
    }
   ],
   "source": [
    "a=np.array([[1,2],[3,4]])\n",
    "b=np.array([[5,6],[7,8]])\n",
    "print(a)\n",
    "print()\n",
    "print(b)\n",
    "print()\n",
    "print(np.concatenate((a,b)))\n",
    "print()\n",
    "print(np.concatenate((a,b),axis=0))\n",
    "print()\n",
    "print(np.concatenate((a,b),axis=1))\n",
    "print()\n"
   ]
  },
  {
   "cell_type": "code",
   "execution_count": 49,
   "id": "8cebf82f",
   "metadata": {},
   "outputs": [
    {
     "name": "stdout",
     "output_type": "stream",
     "text": [
      "[array([1, 2, 3]), array([4, 5, 6])]\n"
     ]
    }
   ],
   "source": [
    "# splitting of arrays\n",
    "a=np.array([1,2,3,4,5,6])\n",
    "print(np.array_split(a,2)) # splitting an array a into two arrays"
   ]
  },
  {
   "cell_type": "markdown",
   "id": "1e3beddd",
   "metadata": {},
   "source": [
    "# array functions"
   ]
  },
  {
   "cell_type": "code",
   "execution_count": 51,
   "id": "f27efc44",
   "metadata": {},
   "outputs": [
    {
     "name": "stdout",
     "output_type": "stream",
     "text": [
      "(array([3], dtype=int64),)\n",
      "(array([1, 3], dtype=int64),)\n"
     ]
    }
   ],
   "source": [
    "#search\n",
    "a=np.array([1,2,3,4])\n",
    "print(np.where(a==4))\n",
    "print(np.where(a%2==0)) # search for even numbers\n"
   ]
  },
  {
   "cell_type": "code",
   "execution_count": 54,
   "id": "9324dad7",
   "metadata": {},
   "outputs": [
    {
     "name": "stdout",
     "output_type": "stream",
     "text": [
      "4\n",
      "7\n"
     ]
    }
   ],
   "source": [
    "#searchsorted   tells where the element can be inserted\n",
    "a=np.array([1,2,3,4,6,7,8])\n",
    "print(np.searchsorted(a,5,side=\"left\"))\n",
    "print(np.searchsorted(a,9,side=\"right\"))"
   ]
  },
  {
   "cell_type": "code",
   "execution_count": 55,
   "id": "daf878f6",
   "metadata": {},
   "outputs": [
    {
     "name": "stdout",
     "output_type": "stream",
     "text": [
      "[1 2 3 5 5 6 7 9]\n"
     ]
    }
   ],
   "source": [
    "#sort\n",
    "a=np.array([2,1,5,3,7,5,6,9])\n",
    "print(np.sort(a))"
   ]
  },
  {
   "cell_type": "code",
   "execution_count": 56,
   "id": "54ace2a2",
   "metadata": {},
   "outputs": [
    {
     "name": "stdout",
     "output_type": "stream",
     "text": [
      "[1 2]\n"
     ]
    }
   ],
   "source": [
    "#filter(getting some elements out and creating a new array out of them)\n",
    "a=np.array([1,2,3,4])\n",
    "f=[True,True,False,False]\n",
    "print(a[f])\n"
   ]
  },
  {
   "cell_type": "code",
   "execution_count": 64,
   "id": "670c44b6",
   "metadata": {},
   "outputs": [
    {
     "name": "stdout",
     "output_type": "stream",
     "text": [
      "[2 4 3 1 5]\n",
      "(array([1, 2, 3, 4, 5, 6, 7]), array([1, 2, 2, 1, 2, 1, 1], dtype=int64))\n",
      "[[1 2 2]\n",
      " [3 5 6]]\n",
      "[1 2 2 3 5 6 7 3 4 5]\n"
     ]
    }
   ],
   "source": [
    "#shuffle\n",
    "a=np.array([1,2,3,4,5])\n",
    "np.random.shuffle(a)\n",
    "print(a)\n",
    "#unique\n",
    "a=np.array([1,2,2,3,5,6,7,3,4,5])\n",
    "print(np.unique(a,return_counts=True))\n",
    "#resize\n",
    "print(np.resize(a,(2,3)))\n",
    "print(a.flatten())"
   ]
  },
  {
   "cell_type": "code",
   "execution_count": 67,
   "id": "d950c8c8",
   "metadata": {},
   "outputs": [
    {
     "name": "stdout",
     "output_type": "stream",
     "text": [
      "[ 1  2 50  3 50  4]\n",
      "[1.  2.  3.  4.  6.5]\n"
     ]
    }
   ],
   "source": [
    "#insert\n",
    "a=np.array([1,2,3,4])\n",
    "print(np.insert(a,(2,3),50)) # list,pos,ele  doesnot allow float\n",
    "print(np.append(a,6.5)) #appends at end"
   ]
  },
  {
   "cell_type": "code",
   "execution_count": 69,
   "id": "bebdfa49",
   "metadata": {},
   "outputs": [
    {
     "name": "stdout",
     "output_type": "stream",
     "text": [
      "[1 2 4]\n"
     ]
    }
   ],
   "source": [
    "#delete\n",
    "a=np.array([1,2,3,4])\n",
    "print(np.delete(a,2)) #list,pos"
   ]
  },
  {
   "cell_type": "code",
   "execution_count": null,
   "id": "bbd9f2c2",
   "metadata": {},
   "outputs": [],
   "source": []
  }
 ],
 "metadata": {
  "kernelspec": {
   "display_name": "Python 3 (ipykernel)",
   "language": "python",
   "name": "python3"
  },
  "language_info": {
   "codemirror_mode": {
    "name": "ipython",
    "version": 3
   },
   "file_extension": ".py",
   "mimetype": "text/x-python",
   "name": "python",
   "nbconvert_exporter": "python",
   "pygments_lexer": "ipython3",
   "version": "3.9.13"
  }
 },
 "nbformat": 4,
 "nbformat_minor": 5
}
